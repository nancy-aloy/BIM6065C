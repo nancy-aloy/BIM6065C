{
 "cells": [
  {
   "cell_type": "markdown",
   "id": "0b45c729-fd32-469b-bed8-904f474f4ad7",
   "metadata": {},
   "source": [
    "# Data Analysis and Data Science\n",
    "## Putting it all together \n",
    "\n",
    "By: Caroline Labelle\n",
    "<br>For: BIM6065-C\n",
    "\n",
    "<br>\n",
    "Date: July 8th, 2024\n",
    "\n",
    "<hr style=\"border:1px solid black\"> </hr>"
   ]
  },
  {
   "cell_type": "code",
   "execution_count": 2,
   "id": "9896c6bc-653b-4958-b21a-c97e02f0d3fa",
   "metadata": {},
   "outputs": [
    {
     "name": "stdout",
     "output_type": "stream",
     "text": [
      "Nancy Aloysius\n"
     ]
    }
   ],
   "source": [
    "### Student Name: \n",
    "print (\"Nancy Aloysius\")"
   ]
  },
  {
   "cell_type": "markdown",
   "id": "66323439-c98c-4e75-b791-73df2eb3efb1",
   "metadata": {},
   "source": [
    "Complete the following exercises and push your notebook on Github: submit your Github handle on StudiUM.\n",
    "\n",
    "In a terminal : \n",
    "\n",
    "1. Go in the same directory as your notebook: `cd path_to_your_notebook/`\n",
    "2. Commit the change made to your notebook: `git commit -am \"add_your_personalized_note\"`\n",
    "3. Push your commit on Github: `git push origin main`\n",
    "\n",
    "Go to Github and double check that the pushed Notebook is the version you want to hand in."
   ]
  },
  {
   "cell_type": "code",
   "execution_count": null,
   "id": "a150bdde-ae13-4ea0-b60e-923f8730bc6a",
   "metadata": {},
   "outputs": [],
   "source": [
    "### Import sklearn\n",
    "import sklearn.decomposition, sklearn.cluster\n",
    "\n",
    "### Import scipy\n",
    "import scipy as sp\n",
    "\n",
    "### Import pandas, numpy, seaborn and matplotlib.pyplot\n",
    "import pandas as pd\n",
    "import numpy as np\n",
    "import seaborn as sns"
   ]
  },
  {
   "cell_type": "code",
   "execution_count": null,
   "id": "63f6b3ea-75e0-433d-ae8a-0b61a8a7f220",
   "metadata": {},
   "outputs": [],
   "source": [
    "sns.set(rc={'figure.figsize':(4, 2)})\n",
    "sns.set_theme(context=\"notebook\", style=\"white\")"
   ]
  },
  {
   "cell_type": "markdown",
   "id": "8a4327d5-e0b6-470f-961f-2ce0215c82b9",
   "metadata": {},
   "source": [
    "# Breast Cancer Subtypes Analysis [50 pts]\n",
    "\n",
    "You are given a gene expression dataset of $N$ breast cancer patients with their clinical subtype. You wish to know if you can assess the clinical subtypes based on the gene expression. To do so you will be using various methods presented through out the class."
   ]
  },
  {
   "cell_type": "markdown",
   "id": "6f953a15-6ddf-4a1d-a97d-39299d94b3a7",
   "metadata": {},
   "source": [
    "## Import the data [10 pts]\n",
    "\n",
    "Your dataset concist of three files: \n",
    "1. `genes_id.txt`\n",
    "2. `patient_subtype.txt`\n",
    "3. `patient_expression.txt`. \n",
    "\n",
    "Import the various files and build your dataset daframe. You should have for each patient her/his gene expression profil and clinical subtypes. Use the gene IDs as identifier for the columns or row names (you choose how to build your dataframe)."
   ]
  },
  {
   "cell_type": "markdown",
   "id": "49fde435-7319-4fde-a39f-f6de1f1bd501",
   "metadata": {},
   "source": [
    "### Import the files individually [3 pts]"
   ]
  },
  {
   "cell_type": "code",
   "execution_count": null,
   "id": "5b1ea372-068c-453e-a926-d931798e2282",
   "metadata": {},
   "outputs": [],
   "source": []
  },
  {
   "cell_type": "markdown",
   "id": "0b599ab0-14a1-4e02-8e4c-f92d19bc89a4",
   "metadata": {},
   "source": [
    "### How many patient are you considering? [1 pt]"
   ]
  },
  {
   "cell_type": "code",
   "execution_count": null,
   "id": "c06d5645-f306-4555-9345-894cfd47eb6e",
   "metadata": {},
   "outputs": [],
   "source": []
  },
  {
   "cell_type": "markdown",
   "id": "f721294e-c453-4d71-9a90-c3f1d4028f2b",
   "metadata": {},
   "source": [
    "### How many genes are you considering? [1 pt]"
   ]
  },
  {
   "cell_type": "code",
   "execution_count": null,
   "id": "421bad8e-e19a-45bf-9ac8-0369453b8202",
   "metadata": {},
   "outputs": [],
   "source": []
  },
  {
   "cell_type": "markdown",
   "id": "4ee97720-6360-4601-a231-9a799e210e7d",
   "metadata": {},
   "source": [
    "### Combine the data from all three files into one dataframe [5 pts]\n",
    "You can use one of the dataframe as the 'main' one, and then rename its columns and add a new column.\n",
    "\n",
    "**Show a preview/overview of your dataframe**"
   ]
  },
  {
   "cell_type": "code",
   "execution_count": null,
   "id": "aafbf631-12a1-43a5-836e-5bc82bd80ed8",
   "metadata": {},
   "outputs": [],
   "source": []
  },
  {
   "cell_type": "markdown",
   "id": "c92b891a-0b97-4192-b953-0443c80765fc",
   "metadata": {},
   "source": [
    "## Explore the dataset [15 pts]"
   ]
  },
  {
   "cell_type": "markdown",
   "id": "df05aaa2-ca54-466c-adce-a9971d31c717",
   "metadata": {
    "tags": []
   },
   "source": [
    "### How many subtypes are you considering? [1 pts]"
   ]
  },
  {
   "cell_type": "code",
   "execution_count": null,
   "id": "91361b10-1623-420d-8c45-fda2c6f40690",
   "metadata": {},
   "outputs": [],
   "source": []
  },
  {
   "cell_type": "markdown",
   "id": "248a978c-1b9a-4e72-b4af-066f552efbe4",
   "metadata": {
    "tags": []
   },
   "source": [
    "### How many patients are associtated to each subtype? [2 pts]"
   ]
  },
  {
   "cell_type": "code",
   "execution_count": null,
   "id": "a20e5d99-76eb-4ec7-9800-d06d41887ea7",
   "metadata": {},
   "outputs": [],
   "source": []
  },
  {
   "cell_type": "markdown",
   "id": "41a42ab6-b474-40bb-aa29-8341fcb7b86f",
   "metadata": {},
   "source": [
    "### Generate a graph showing the distribution of the average expression of each gene [5 pts]"
   ]
  },
  {
   "cell_type": "code",
   "execution_count": null,
   "id": "69c59a4c-afff-4f1f-bf42-2ef0e2703cd9",
   "metadata": {},
   "outputs": [],
   "source": []
  },
  {
   "cell_type": "markdown",
   "id": "3fcb94e7-c64d-46ad-8f70-9dc7250cae82",
   "metadata": {},
   "source": [
    "### What are the two genes with the largest standard deviation for all patient? [2 pts]\n",
    "To answer this question, you can use the `df.std()` and `df.sort_values()`. You can look into the doc for more informations on these two functions.\n",
    "1. https://pandas.pydata.org/docs/reference/api/pandas.DataFrame.std.html\n",
    "2. https://pandas.pydata.org/docs/reference/api/pandas.DataFrame.sort_values.html#pandas.DataFrame.sort_values"
   ]
  },
  {
   "cell_type": "code",
   "execution_count": null,
   "id": "0e860772-bc93-46ab-983e-b0ee3c411410",
   "metadata": {},
   "outputs": [],
   "source": []
  },
  {
   "cell_type": "markdown",
   "id": "def5750e-318e-4c4f-b77d-1cc724f56c28",
   "metadata": {},
   "source": [
    "### Compare the expression of these two genes: are they corrolated based on tumor subtypes? [5 pts]\n",
    "The two genes to consider are **ENSG00000186081.10** and **ENSG00000128422.14**.\n",
    "\n",
    "To answer this question: \n",
    "1. Make a figure showing the correlation between the two genes by clinical subtypes,\n",
    "2. Calculate a correlation coefficient for each comparison and,\n",
    "3. Briefly interpret your results (make sure your interpretation is consistent with the correlation coefficient used)."
   ]
  },
  {
   "cell_type": "code",
   "execution_count": null,
   "id": "b81be662-bcea-422a-8975-f8abe60d7132",
   "metadata": {},
   "outputs": [],
   "source": []
  },
  {
   "cell_type": "markdown",
   "id": "9bdc21d7-80a9-49e2-b9b4-41de2b4cc61a",
   "metadata": {},
   "source": [
    "## Clustering [25 pts]\n",
    "You are wondering if the M genes considered by your dataset are enough to cluster the N patients by their cancer subtype. To answer this question, you first want to apply a dimensionality reduction algorithm to your dataset. You then want to apply a clustering alogirthme to the reduced components, and compare the clustering labels to the clinical subtype of each patient."
   ]
  },
  {
   "cell_type": "markdown",
   "id": "67b40a50-5d06-4486-92dc-3824885c44ef",
   "metadata": {},
   "source": [
    "### Apply a PCA Dimensionality reduction to your gene expression dataset [4 pts]\n",
    "\n",
    "Once you selected the numerical gene expression, scale the value and initiate a PCA object. You want to reduce your set of features to **25 components**."
   ]
  },
  {
   "cell_type": "code",
   "execution_count": null,
   "id": "c1b3b2b4-7584-4946-94cc-ce88b26aa12b",
   "metadata": {},
   "outputs": [],
   "source": []
  },
  {
   "cell_type": "markdown",
   "id": "ed2a0f5e-2238-47e4-b5a0-df41b402aa1f",
   "metadata": {},
   "source": [
    "### What percentage of the variance of the dataset is explained by the two first component? [2 pt]"
   ]
  },
  {
   "cell_type": "code",
   "execution_count": null,
   "id": "82dfede7-86c5-40f9-b7da-6ab664c8a280",
   "metadata": {},
   "outputs": [],
   "source": []
  },
  {
   "cell_type": "markdown",
   "id": "e0c6b757-c3b2-4bd6-943a-dc75823c8538",
   "metadata": {},
   "source": [
    "### Apply the PCA onto your gene expression data and create a DataFrame with the PCs and the clinical patient subtypes [4 pts]\n",
    "**Show a preview/overview of your dataframe**"
   ]
  },
  {
   "cell_type": "code",
   "execution_count": null,
   "id": "322249e8-f091-4e87-ac47-16272651c7db",
   "metadata": {},
   "outputs": [],
   "source": []
  },
  {
   "cell_type": "markdown",
   "id": "056e501b-85d0-407b-909b-dc81bbe7acf2",
   "metadata": {},
   "source": [
    "### Plot a figure showing the two first PCs and color the samples by their clinical subtype [3 pts]\n",
    "Do you think the k-means algorithm will be able to accurately cluster patients based on their clinical subtype? Why?"
   ]
  },
  {
   "cell_type": "code",
   "execution_count": null,
   "id": "6f81b389-ccc7-4daf-b7a4-f69d430efb88",
   "metadata": {},
   "outputs": [],
   "source": []
  },
  {
   "cell_type": "markdown",
   "id": "55c4003c-9a80-4b9f-9d8a-b7ddf54b32ae",
   "metadata": {},
   "source": [
    "### Apply the K-means algorithme to your reduced dataset [5 pts]\n",
    "When applying the K-means, you should use all 25 PCs, generated by your PCA. Add the k-means labels to your reduced dataset."
   ]
  },
  {
   "cell_type": "code",
   "execution_count": null,
   "id": "7074c0f5-c49a-4785-b0d0-6bfe6709405a",
   "metadata": {},
   "outputs": [],
   "source": []
  },
  {
   "cell_type": "markdown",
   "id": "dcfb6acb-f570-427f-aba5-28ba41afcd53",
   "metadata": {},
   "source": [
    "### What value of k did you use and why? [2 pt]"
   ]
  },
  {
   "cell_type": "code",
   "execution_count": null,
   "id": "99fca5af-162c-4632-9a66-d003a00b040a",
   "metadata": {},
   "outputs": [],
   "source": []
  },
  {
   "cell_type": "markdown",
   "id": "8c917417-d032-45a2-bcb7-af69867bf26c",
   "metadata": {},
   "source": [
    "### Compare your k-means labels to the clinical substypes [5 pts]\n",
    "You comparison can by qualitative and/or quantitative.\n",
    "\n",
    "**Are you able to cluster patient by clinical substypes from your subset of gene expressions? Briefly describe and interpret your results.**"
   ]
  },
  {
   "cell_type": "code",
   "execution_count": null,
   "id": "ed6bb17b-b23b-471d-aba5-6b3d637dd805",
   "metadata": {},
   "outputs": [],
   "source": []
  },
  {
   "cell_type": "code",
   "execution_count": null,
   "id": "99962d85-c9cf-4679-9d53-2176ab2735f0",
   "metadata": {},
   "outputs": [],
   "source": []
  }
 ],
 "metadata": {
  "kernelspec": {
   "display_name": "Python (bioinfo)",
   "language": "python",
   "name": "bioinfo"
  },
  "language_info": {
   "codemirror_mode": {
    "name": "ipython",
    "version": 3
   },
   "file_extension": ".py",
   "mimetype": "text/x-python",
   "name": "python",
   "nbconvert_exporter": "python",
   "pygments_lexer": "ipython3",
   "version": "3.10.4"
  }
 },
 "nbformat": 4,
 "nbformat_minor": 5
}
